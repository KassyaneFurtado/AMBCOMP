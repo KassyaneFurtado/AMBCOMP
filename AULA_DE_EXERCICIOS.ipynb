{
 "cells": [
  {
   "cell_type": "markdown",
   "metadata": {
    "id": "yHqKhVjDtDWF"
   },
   "source": [
    "ALGORITMO É UM CONJUNTO DE COMANDOS\n",
    "SCRIPT É OS COMANDOS EM LIGUAGEM DE PROGRAMAÇÃO\n",
    "\n",
    "A LISTA É DECLARADA ENTRE COLCHETES\n"
   ]
  },
  {
   "cell_type": "code",
   "execution_count": null,
   "metadata": {
    "id": "QuPQHiMSsDhi"
   },
   "outputs": [],
   "source": [
    "aminoacidos1 = [\"A\", \"B\", \"C\"]\n",
    "print(aminoacidos)"
   ]
  },
  {
   "cell_type": "markdown",
   "metadata": {
    "id": "ViJqzO4-tOHy"
   },
   "source": [
    "O DICIONARIO É ENTRE CHAVES\n",
    "AQUI ESTAMOS IMPRIMINDO A CHAVE E O VALOR DENTRO DE UM DICIONÁRIO"
   ]
  },
  {
   "cell_type": "code",
   "execution_count": null,
   "metadata": {
    "id": "N7TkOSzJtYtS"
   },
   "outputs": [],
   "source": [
    "aminoacidos2 = {\n",
    "    \"A\": \"ALAMINA\",\n",
    "    \"D\": \"ASPARTATO\",\n",
    "    \"E\": \"GLUTAMATO\"\n",
    "}\n",
    "for chave in aminoacidos2:\n",
    "        valor = aminoacidos = aminoacidos2 [chave]\n",
    "        print(chave, valor)"
   ]
  },
  {
   "cell_type": "markdown",
   "metadata": {
    "id": "VmsQyb6Et3F5"
   },
   "source": [
    "\n",
    "COMANDOS CONDICIONAIS\n",
    "A = 2\n",
    "B = 2\n",
    "\n",
    "if\n",
    "else\n",
    "elif"
   ]
  },
  {
   "cell_type": "code",
   "execution_count": null,
   "metadata": {
    "colab": {
     "base_uri": "https://localhost:8080/"
    },
    "collapsed": true,
    "id": "u1e6uRbRtzHU",
    "outputId": "656ccfc3-984b-4c35-c401-0ae249fb8b72"
   },
   "outputs": [
    {
     "name": "stdout",
     "output_type": "stream",
     "text": [
      "Digite o primeiro número:8\n",
      "digite o segundo número:5\n",
      "Multiplicação: 40\n",
      "Subtração: 3\n",
      "Soma: 13\n",
      "Divisão: 1.6\n",
      "Potenciação 32768\n",
      "Módulo ou resto: 3\n"
     ]
    }
   ],
   "source": [
    "#CALCULADORA\n",
    "n1  = input(\"Digite o primeiro número:\")\n",
    "n2 = input(\"digite o segundo número:\")\n",
    "\n",
    "n1 = int(n1)\n",
    "n2 = int(n2)\n",
    "\n",
    "print(\"Multiplicação:\", n1*n2)\n",
    "print(\"Subtração:\", n1-n2)\n",
    "print(\"Soma:\", n1+n2)\n",
    "print(\"Divisão:\", n1/n2)\n",
    "print(\"Potenciação\", n1**n2)\n",
    "print(\"Módulo ou resto:\", n1%n2)"
   ]
  },
  {
   "cell_type": "code",
   "execution_count": null,
   "metadata": {
    "id": "zOwdqH0UukTr"
   },
   "outputs": [],
   "source": [
    "#CALCULADORA IF\n",
    "n1  = input(\"Digite o primeiro número:\")\n",
    "o= input (\"digite o operador:\")\n",
    "n2 = input(\"digite o segundo número:\")\n",
    "\n",
    "n1 = int(n1)\n",
    "n2 = int(n2)\n",
    "\n",
    "sair == False\n",
    "\n",
    "while s == False:\n",
    "  if o == \"+\":\n",
    "      Rsoma = n1+n2\n",
    "      print(\"Somando os valores:\", Rsoma)\n",
    "  elif o == \"-\":\n",
    "      Rsubtracao = n1-n2\n",
    "      print(\"Subtraindo os valores:\", Rsubtracao)\n",
    "  elif o == \"/\":\n",
    "    Rdivisao = n1/n2\n",
    "    print(\"Dividindo os valores:\", Rdivisao)\n",
    "  elif o == \"*\":\n",
    "    Rmultiplicacao = n1*n2\n",
    "    print(\"Multiplicando os valores:\", Rmultiplicacao)\n",
    "  elif o == \"**\":\n",
    "    Rpotenciacao = n1**n2\n",
    "    print(Rpotenciacao)\n",
    "  elif o == \"%\":\n",
    "    Rresto = n1%n2\n",
    "    print(Rresto)\n",
    "\n",
    "Dsair = input (\"Deseja sair (y/n):\")\n",
    "if Dsair == \"sair\":\n",
    "  sair = True"
   ]
  },
  {
   "cell_type": "markdown",
   "metadata": {
    "id": "uXR_cR2KtL3z"
   },
   "source": [
    "VARIAVEL É UM ESPAÇO PARA ARMAZENAMENTO DE COISAS, PODEM TER ALGUNS TIPOS:\n",
    "INT - INTEIRO\n",
    "FLOAT - NUMERO COM CASAS DECIMAIS\n",
    "STRING -\n",
    "LIST -\n",
    "DICTIONARY -\n",
    "TUPLE -\n",
    "BOOL -"
   ]
  },
  {
   "cell_type": "markdown",
   "metadata": {
    "id": "DQ-aNsXiwVLG"
   },
   "source": [
    "FUNÇÕES\n",
    "SÃO BLOCOS DE CÓDIGOS REUTILIZÁVEIS, SÃO MARCADAS POR () AO FINAL EXEMPLO - time.time()\n",
    "\n",
    "TODO MÉTODO É UMA FUNÇÃO MAS NEM TODA FUNÇÃO É UM MÉTODO"
   ]
  },
  {
   "cell_type": "code",
   "execution_count": null,
   "metadata": {
    "id": "hnm4qOJwyqTP"
   },
   "outputs": [],
   "source": [
    "def nome_da_funcao (parametro1, paramentro2, parametro3):\n",
    "\n",
    "# Ajuda da função: nome_da_funcao\n",
    "# Objetivo: Exemplo de função que recebe 3 valores e retorna 1\n",
    "\n",
    "# Entrada: recebe três parâmetros p1, p2, p3\n",
    "# Saída: string/int com dados processados\n",
    "\n",
    "# uso: nome_da_funcao(p1, p2, p3)\n",
    "  return saida\n",
    "\n",
    "nome_da_funcao (argumento1, argumento2, argumento3)"
   ]
  },
  {
   "cell_type": "markdown",
   "metadata": {
    "id": "-tuygxqH0lJG"
   },
   "source": [
    "FUNÇÕES RECURSIVAS\n",
    "\n",
    "É UMA FUNÇÃO QUE SE CHAMA ENQUANTO A FUNÇÃO FOR VERDADEIRA"
   ]
  },
  {
   "cell_type": "code",
   "execution_count": null,
   "metadata": {
    "colab": {
     "base_uri": "https://localhost:8080/"
    },
    "id": "967lhUw_0wL1",
    "outputId": "bf8ca248-bae2-4ff7-86f6-32c0a2348427"
   },
   "outputs": [
    {
     "name": "stdout",
     "output_type": "stream",
     "text": [
      "Cys\n"
     ]
    }
   ],
   "source": [
    "aminoacidos = {\n",
    "    \"A\": \"Ala\", #ALANINA\n",
    "    \"C\": \"Cys\", #CISTEÍNA\n",
    "    \"D\": \"Asp\", #ASPARTATO\n",
    "    \"E\": \"Glu\", #GLUTAMATO\n",
    "    \"F\": \"Phe\", #FENILALANINA\n",
    "    \"G\": \"Gly\", #GLICINA\n",
    "    \"H\": \"His\", #HISTIDINA\n",
    "    \"I\": \"Ile\", #ISOLEUCINA\n",
    "    \"K\": \"Lys\", #LISINA\n",
    "    \"L\": \"Leu\", #LEUCINA\n",
    "    \"M\": \"Met\", #METIONINA\n",
    "    \"N\": \"Asn\", #ASPARAGINA\n",
    "    \"P\": \"Pro\", #PROLINA\n",
    "    \"Q\": \"Gin\", #GLUTAMINA\n",
    "    \"R\": \"Arg\", #ARGININA\n",
    "    \"S\": \"Ser\", #SERINA\n",
    "    \"T\": \"Thr\", #TREONINA\n",
    "    \"V\": \"Val\", #VALINA\n",
    "    \"W\": \"Trp\", #TRIPTOFANO\n",
    "    \"Y\": \"Tyr\" #TIROSINA\n",
    "}\n",
    "print(aminoacidos[\"C\"])"
   ]
  },
  {
   "cell_type": "code",
   "execution_count": null,
   "metadata": {
    "colab": {
     "base_uri": "https://localhost:8080/"
    },
    "id": "7HFlBaX28sp2",
    "outputId": "1cc942b2-dc0a-416e-e093-aac58fb4e429"
   },
   "outputs": [
    {
     "name": "stdout",
     "output_type": "stream",
     "text": [
      "Help on function convert in module __main__:\n",
      "\n",
      "convert(aminoacidos)\n",
      "    Ajuda: recebe um código de 1 letra converte em 3 ou vice versa\n",
      "\n"
     ]
    }
   ],
   "source": [
    "def convert (aa):\n",
    "  '''Ajuda: recebe um código de 1 letra converte em 3 ou vice versa'''\n",
    "  aa = aa.upper()\n",
    "  aminoacidos = {\n",
    "    \"A\": \"Ala\", #ALANINA\n",
    "    \"C\": \"Cys\", #CISTEÍNA\n",
    "    \"D\": \"Asp\", #ASPARTATO\n",
    "    \"E\": \"Glu\", #GLUTAMATO\n",
    "    \"F\": \"Phe\", #FENILALANINA\n",
    "    \"G\": \"Gly\", #GLICINA\n",
    "    \"H\": \"His\", #HISTIDINA\n",
    "    \"I\": \"Ile\", #ISOLEUCINA\n",
    "    \"K\": \"Lys\", #LISINA\n",
    "    \"L\": \"Leu\", #LEUCINA\n",
    "    \"M\": \"Met\", #METIONINA\n",
    "    \"N\": \"Asn\", #ASPARAGINA\n",
    "    \"P\": \"Pro\", #PROLINA\n",
    "    \"Q\": \"Gin\", #GLUTAMINA\n",
    "    \"R\": \"Arg\", #ARGININA\n",
    "    \"S\": \"Ser\", #SERINA\n",
    "    \"T\": \"Thr\", #TREONINA\n",
    "    \"V\": \"Val\", #VALINA\n",
    "    \"W\": \"Trp\", #TRIPTOFANO\n",
    "    \"Y\": \"Tyr\" #TIROSINA\n",
    "  }\n",
    "  tamanho = len(aa)\n",
    "  if tamanho == 1:\n",
    "    return aminoacidos[aa]\n",
    "  elif tamanho ==3:\n",
    "\n",
    "    for i in aminoacidos:\n",
    "      aaa = aminoacidos[i]\n",
    "      if aaa == aa:\n",
    "        return i\n",
    "\n",
    "\n",
    "help(convert)\n"
   ]
  }
 ],
 "metadata": {
  "colab": {
   "provenance": []
  },
  "kernelspec": {
   "display_name": "Python 3",
   "name": "python3"
  },
  "language_info": {
   "name": "python"
  }
 },
 "nbformat": 4,
 "nbformat_minor": 0
}
